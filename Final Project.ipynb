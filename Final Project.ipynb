{
 "cells": [
  {
   "cell_type": "markdown",
   "metadata": {},
   "source": [
    "# Will You Accept This Analysis?\n",
    "#### Danielle Eliav\n",
    "Since 2002, millions of viewers tune in to watch what Chris Harrison promises will be \"the most dramatic season\" of The Bachelor(ette) yet. From jumping fences to fist fights to lots and lots of tears every season brings new drama to TVs all over the country. \n",
    "\n",
    "For those unfamiliar with The Bachelor franchise, the main shows, The Bachelor and The Bachelorette, feature a male or female lead, the bachelor or bachelorette respectively, looking for true love. Every season begins with 20-30 suitors arriving to compete for the attention and affection of the bachelor(ette). The first night, the bachelor(ette) gives out one (or occasionally many) first impression rose, allowing them to remain on the show for the second week, to the contestant(s) he/she feels made the best first impression. Every subsequent week, the lead goes on a few dates with one or a group of the contestants and gives out roses that represent them being chosen to remain on the show for another week. By the series finale, there are only two suitors remaining: one leaves heartbroken, the other leaves engaged to the lead and the two eventually get married.\n",
    "\n",
    "At least that's the hope. In reality couples from the show rarely stay together long term and the authenticity of the show has been questioned on more than one occasion. Even so, the franchise continues to thrive with almost 40 seasons between The Bachelor and The Bachelorette as of when this was written. Needless to say, the show has amassed a dedicated following, referred to as \"Bachelor Nation\", and has inspired many to compete in leagues akin to those of fantasy football trying to create brackets that predict the outcome of every season. \n",
    "\n",
    "\n",
    "In this tutorial, we'll examine the success rate of the show and its relation to first impressions roses and the age of contestants. We'll also look at whether first impression roses are good predictors of the final two. "
   ]
  },
  {
   "cell_type": "markdown",
   "metadata": {},
   "source": [
    "## Data Collection\n",
    "\n",
    "The first step is to collect the necessary data. We'll be collecting our data from Wikipedia. We'll collect the names and ages of each contestant and note their sex and which season they're from. We'll also collect the names of the winner and runner-up(s) of each season as well as whether the couple from that season got engaged and if they're still together.\n",
    "Let's start with the information on the contestants. "
   ]
  },
  {
   "cell_type": "code",
   "execution_count": 98,
   "metadata": {},
   "outputs": [
    {
     "data": {
      "text/html": [
       "<div>\n",
       "<style scoped>\n",
       "    .dataframe tbody tr th:only-of-type {\n",
       "        vertical-align: middle;\n",
       "    }\n",
       "\n",
       "    .dataframe tbody tr th {\n",
       "        vertical-align: top;\n",
       "    }\n",
       "\n",
       "    .dataframe thead th {\n",
       "        text-align: right;\n",
       "    }\n",
       "</style>\n",
       "<table border=\"1\" class=\"dataframe\">\n",
       "  <thead>\n",
       "    <tr style=\"text-align: right;\">\n",
       "      <th></th>\n",
       "      <th>name</th>\n",
       "      <th>age</th>\n",
       "      <th>sex</th>\n",
       "      <th>season</th>\n",
       "    </tr>\n",
       "  </thead>\n",
       "  <tbody>\n",
       "    <tr>\n",
       "      <th>824</th>\n",
       "      <td>Matthew \"Matt\" Munson</td>\n",
       "      <td>32.0</td>\n",
       "      <td>M</td>\n",
       "      <td>13</td>\n",
       "    </tr>\n",
       "    <tr>\n",
       "      <th>757</th>\n",
       "      <td>Ron Worrell</td>\n",
       "      <td>28.0</td>\n",
       "      <td>M</td>\n",
       "      <td>10</td>\n",
       "    </tr>\n",
       "    <tr>\n",
       "      <th>480</th>\n",
       "      <td>Revian Chang</td>\n",
       "      <td>24.0</td>\n",
       "      <td>F</td>\n",
       "      <td>23</td>\n",
       "    </tr>\n",
       "    <tr>\n",
       "      <th>828</th>\n",
       "      <td>Anthony Battle</td>\n",
       "      <td>26.0</td>\n",
       "      <td>M</td>\n",
       "      <td>13</td>\n",
       "    </tr>\n",
       "    <tr>\n",
       "      <th>369</th>\n",
       "      <td>Becca Tilley</td>\n",
       "      <td>26.0</td>\n",
       "      <td>F</td>\n",
       "      <td>20</td>\n",
       "    </tr>\n",
       "  </tbody>\n",
       "</table>\n",
       "</div>"
      ],
      "text/plain": [
       "                      name   age sex  season\n",
       "824  Matthew \"Matt\" Munson  32.0   M      13\n",
       "757            Ron Worrell  28.0   M      10\n",
       "480           Revian Chang  24.0   F      23\n",
       "828         Anthony Battle  26.0   M      13\n",
       "369           Becca Tilley  26.0   F      20"
      ]
     },
     "execution_count": 98,
     "metadata": {},
     "output_type": "execute_result"
    }
   ],
   "source": [
    "import re\n",
    "import time\n",
    "import json\n",
    "import requests\n",
    "from bs4 import BeautifulSoup\n",
    "import pandas as pd\n",
    "import numpy as np\n",
    "\n",
    "def remove_footnotes(s):\n",
    "    end = s.find('[')\n",
    "    if end != -1:\n",
    "        return s[:end]\n",
    "    else:\n",
    "        return s\n",
    "\n",
    "def scrape_contestants(base_url, seasons, sex):\n",
    "\n",
    "    result= []\n",
    "        \n",
    "    for i in range(1,seasons+1):\n",
    "        current_url = base_url + str(i) + ')'\n",
    "        print('checking {}'.format(current_url))\n",
    "        response = requests.get(current_url)\n",
    "        soup = BeautifulSoup(response.text, 'html.parser')\n",
    "    \n",
    "        if sex == 'M' and (i == 2 or i ==3): #two seasons of The Bachelorette have pages that are structured differently \n",
    "            contestants = soup.find('table',{'class':'wikitable'})\n",
    "        else:\n",
    "            contestants= soup.find('table',{'class':'wikitable sortable'})\n",
    "                \n",
    "        if contestants != None:\n",
    "            contestants = contestants.find_all('tr')\n",
    "\n",
    "            for contestant in contestants[1:]:\n",
    "                contestant = contestant.find_all('td')\n",
    "                \n",
    "                result.append({\n",
    "                    'name': remove_footnotes(contestant[0].text.strip()),\n",
    "                    'age': remove_footnotes(contestant[1].text.strip()),\n",
    "                    'sex': sex,\n",
    "                    'season': i\n",
    "                })\n",
    "    \n",
    "    return pd.DataFrame(result)\n",
    "\n",
    "bachelor_URL = 'https://en.wikipedia.org/wiki/The_Bachelor_(American_season_'\n",
    "bachelorette_URL   = 'https://en.wikipedia.org/wiki/The_Bachelorette_(season_'\n",
    "\n",
    "# Data loaded from CSV to save time\n",
    "# bachelor_contestants = scrape_contestants(bachelor_URL, 24, 'F')\n",
    "# bachelorette_contestants = scrape_contestants(bachelorette_URL, 15, 'M')\n",
    "# bachelor_contestants.to_csv('csv/bachelor_contestants.csv')\n",
    "# bachelorette_contestants.to_csv('csv/bachelorette_contestants.csv')\n",
    "\n",
    "bachelor_contestants = pd.read_csv('csv/bachelor_contestants.csv')\n",
    "bachelorette_contestants = pd.read_csv('csv/bachelorette_contestants.csv')\n",
    "\n",
    "contestants = pd.concat([bachelor_contestants, bachelorette_contestants], ignore_index=True).drop('Unnamed: 0', axis=1)\n",
    "contestants.sample(5)"
   ]
  },
  {
   "cell_type": "markdown",
   "metadata": {},
   "source": [
    "Now we have a pandas dataframe with the name, age, sex, and season of almost every contestant from The Bachelor and The Bachelorette. Seasons 3,4,6,7, and 8 of The Bachelor do not have contestant data available on Wikipedia, but we do have data from the remaining 33 seasons that have finished airing. \n",
    "\n",
    "Next we'll scrape the outcomes of each season. "
   ]
  },
  {
   "cell_type": "code",
   "execution_count": 99,
   "metadata": {},
   "outputs": [
    {
     "data": {
      "text/html": [
       "<div>\n",
       "<style scoped>\n",
       "    .dataframe tbody tr th:only-of-type {\n",
       "        vertical-align: middle;\n",
       "    }\n",
       "\n",
       "    .dataframe tbody tr th {\n",
       "        vertical-align: top;\n",
       "    }\n",
       "\n",
       "    .dataframe thead th {\n",
       "        text-align: right;\n",
       "    }\n",
       "</style>\n",
       "<table border=\"1\" class=\"dataframe\">\n",
       "  <thead>\n",
       "    <tr style=\"text-align: right;\">\n",
       "      <th></th>\n",
       "      <th>sex</th>\n",
       "      <th>season</th>\n",
       "      <th>lead</th>\n",
       "      <th>winner</th>\n",
       "      <th>runner-up</th>\n",
       "      <th>engagement</th>\n",
       "      <th>still_together</th>\n",
       "    </tr>\n",
       "  </thead>\n",
       "  <tbody>\n",
       "    <tr>\n",
       "      <th>15</th>\n",
       "      <td>M</td>\n",
       "      <td>16</td>\n",
       "      <td>Ben Flajnik</td>\n",
       "      <td>Courtney Robertson</td>\n",
       "      <td>Lindzi Cox</td>\n",
       "      <td>True</td>\n",
       "      <td>False</td>\n",
       "    </tr>\n",
       "    <tr>\n",
       "      <th>36</th>\n",
       "      <td>F</td>\n",
       "      <td>13</td>\n",
       "      <td>Rachel Lindsay</td>\n",
       "      <td>Bryan Abasolo</td>\n",
       "      <td>Peter Kraus</td>\n",
       "      <td>True</td>\n",
       "      <td>True</td>\n",
       "    </tr>\n",
       "    <tr>\n",
       "      <th>16</th>\n",
       "      <td>M</td>\n",
       "      <td>17</td>\n",
       "      <td>Sean Lowe</td>\n",
       "      <td>Catherine Giudici</td>\n",
       "      <td>Lindsay Yenter</td>\n",
       "      <td>True</td>\n",
       "      <td>True</td>\n",
       "    </tr>\n",
       "    <tr>\n",
       "      <th>32</th>\n",
       "      <td>F</td>\n",
       "      <td>9</td>\n",
       "      <td>Desiree Hartsock</td>\n",
       "      <td>Chris Siegfried</td>\n",
       "      <td>Drew Kenney</td>\n",
       "      <td>True</td>\n",
       "      <td>True</td>\n",
       "    </tr>\n",
       "    <tr>\n",
       "      <th>30</th>\n",
       "      <td>F</td>\n",
       "      <td>7</td>\n",
       "      <td>Ashley Hebert</td>\n",
       "      <td>J.P. Rosenbaum</td>\n",
       "      <td>Ben Flajnik</td>\n",
       "      <td>True</td>\n",
       "      <td>False</td>\n",
       "    </tr>\n",
       "  </tbody>\n",
       "</table>\n",
       "</div>"
      ],
      "text/plain": [
       "   sex  season              lead              winner       runner-up  \\\n",
       "15   M      16       Ben Flajnik  Courtney Robertson      Lindzi Cox   \n",
       "36   F      13    Rachel Lindsay       Bryan Abasolo     Peter Kraus   \n",
       "16   M      17         Sean Lowe   Catherine Giudici  Lindsay Yenter   \n",
       "32   F       9  Desiree Hartsock     Chris Siegfried     Drew Kenney   \n",
       "30   F       7     Ashley Hebert      J.P. Rosenbaum     Ben Flajnik   \n",
       "\n",
       "    engagement  still_together  \n",
       "15        True           False  \n",
       "36        True            True  \n",
       "16        True            True  \n",
       "32        True            True  \n",
       "30        True           False  "
      ]
     },
     "execution_count": 99,
     "metadata": {},
     "output_type": "execute_result"
    }
   ],
   "source": [
    "def scrape_seasons(URL, sex):\n",
    "    response = requests.get(URL)\n",
    "    soup = BeautifulSoup(response.text, 'html.parser')\n",
    "\n",
    "    seasons= soup.find('table',{'class':'wikitable plainrowheaders'})\n",
    "    result = []\n",
    "    if seasons != None:\n",
    "        seasons = seasons.find_all('tr')\n",
    "\n",
    "        i = 1\n",
    "        for season in seasons[1:]:\n",
    "            season = season.find_all(['td','th'])\n",
    "\n",
    "            if len(season) == 8 and not (sex == 'F' and i == 16 ): #season 16 of The Bachelorette is still airing\n",
    "\n",
    "                \n",
    "                result.append({\n",
    "                    'sex' : sex,\n",
    "                    'season': i,\n",
    "                    'lead': remove_footnotes(season[2].text.strip()),\n",
    "                    'winner': remove_footnotes(season[3].text.strip()),\n",
    "                    'runner-up': remove_footnotes(season[4].text.strip()),\n",
    "                    'engagement': (remove_footnotes(season[5].text.strip()) == 'Yes'),\n",
    "                    'still_together': (remove_footnotes(season[6].text.strip()) == 'Yes')\n",
    "                })\n",
    "                i += 1\n",
    "                \n",
    "            else:\n",
    "                if (sex == 'M' and  i < 25): #seasons that had two runner-ups (season 25 of The Bachelor hasn't aired yet)\n",
    "                     result[i-2]['runner-up'] += ',' + remove_footnotes(season[0].text.strip())\n",
    "                if (sex == 'F' and i == 11): #season 11 of The Bachelorette had the same runner-up as season 10\n",
    "                    result.append({\n",
    "                        'sex' : sex,\n",
    "                        'season': i,\n",
    "                        'lead': remove_footnotes(season[2].text.strip()),\n",
    "                        'winner': remove_footnotes(season[3].text.strip()),\n",
    "                        'runner-up': result[i-2]['runner-up'],\n",
    "                        'engagement': (remove_footnotes(season[5].text.strip()) == 'Yes'),\n",
    "                        'still_together': (remove_footnotes(season[6].text.strip()) == 'Yes')\n",
    "                    })\n",
    "                    i += 1\n",
    "\n",
    "    return pd.DataFrame(result)\n",
    "\n",
    "# Data loaded from csv to save time\n",
    "# bachelor_seasons = scrape_seasons('https://en.wikipedia.org/wiki/The_Bachelor_(American_TV_series)', 'M')\n",
    "# bachelor_seasons.to_csv('csv/bachelor_seasons.csv')\n",
    "\n",
    "# bachelorette_seasons = scrape_seasons('https://en.wikipedia.org/wiki/The_Bachelorette', 'F')\n",
    "# bachelorette_seasons.to_csv('csv/bachelorette_seasons.csv')\n",
    "\n",
    "bachelor_seasons = pd.read_csv('csv/bachelor_seasons.csv')\n",
    "bachelorette_seasons = pd.read_csv('csv/bachelorette_seasons.csv')\n",
    "\n",
    "seasons = pd.concat([bachelor_seasons, bachelorette_seasons], ignore_index=True).drop('Unnamed: 0', axis=1)\n",
    "seasons.sample(5)"
   ]
  },
  {
   "cell_type": "markdown",
   "metadata": {},
   "source": [
    "Now we also have a dataframe with the name and sex of the lead of each season, the names of their winner and runner-up(s), if the couple left engaged, and if they're still together.\n",
    "\n",
    "Lucky for us the data is already clean so we can just right in to analysis and see what we find!\n",
    "\n",
    "## Data Analysis and Visualization\n",
    "Let's start by looking at the number of seasons compared to the number of engagements and successful couples. To do this, we'll create a stacked bar graph using matplotlib with a bar for each show and the two combined."
   ]
  },
  {
   "cell_type": "code",
   "execution_count": 100,
   "metadata": {},
   "outputs": [
    {
     "data": {
      "image/png": "[encoded data removed]",
      "text/plain": [
       "<Figure size 432x288 with 1 Axes>"
      ]
     },
     "metadata": {
      "needs_background": "light"
     },
     "output_type": "display_data"
    }
   ],
   "source": [
    "import matplotlib.pyplot as plt\n",
    "\n",
    "N = 3\n",
    "\n",
    "bachelor_seasons = seasons[seasons['sex'] == 'M']\n",
    "num_seasons = (bachelor_seasons.sex.count())\n",
    "num_engaged = bachelor_seasons[bachelor_seasons['engagement']].sex.count()\n",
    "num_together = bachelor_seasons[bachelor_seasons['still_together']].sex.count()\n",
    "\n",
    "bachelorette_seasons = seasons[seasons['sex'] == 'F']\n",
    "num_seasons2 = (bachelorette_seasons.sex.count())\n",
    "num_engaged2 = bachelorette_seasons[bachelorette_seasons['engagement']].sex.count()\n",
    "num_together2 = bachelorette_seasons[bachelorette_seasons['still_together']].sex.count()\n",
    "\n",
    "neither = ((num_seasons - num_engaged), (num_seasons2 - num_engaged2), (num_seasons - num_engaged) + (num_seasons2 - num_engaged2))\n",
    "engaged = ((num_engaged - num_together), (num_engaged2 - num_together2), ((num_engaged - num_together) + (num_engaged2 - num_together2)))\n",
    "together = (num_together, num_together2, num_together + num_together2 )\n",
    "\n",
    "ind = np.arange(N)    # the x locations for the groups\n",
    "width = 0.4       # the width of the bars: can also be len(x) sequence\n",
    "\n",
    "p1 = plt.bar(ind, neither, width, color = 'red')\n",
    "p2 = plt.bar(ind, engaged, width, bottom=neither, color = 'hotpink')\n",
    "p3 = plt.bar(ind, together, width, bottom=(num_seasons - num_together, num_seasons2 - num_together2, (num_seasons - num_together + num_seasons2 - num_together2)), color = 'pink')\n",
    "\n",
    "plt.ylabel('Number of Couples')\n",
    "plt.xlabel('Show')\n",
    "plt.title('Couples from The Bachelor and The Bachelorette')\n",
    "plt.xticks(ind, ('The Bachelor', 'The Bachelorette', 'Both'))\n",
    "plt.yticks(np.arange(0, 45, 5))\n",
    "plt.legend((p1[0], p2[0], p3[0]), ('Neither', 'Got Engaged', 'Still Together'))\n",
    "\n",
    "plt.show()"
   ]
  },
  {
   "cell_type": "markdown",
   "metadata": {},
   "source": [
    "Based on our graph, it's clear that not many couples from the franchise stay together. Although a lot of seasons end in an engagement, those rarely last.\n",
    "This graph gives us some insight into the success rates, but a graph showing the percentages would probably be more helpful. Luckily that's an easy adjustment."
   ]
  },
  {
   "cell_type": "code",
   "execution_count": 101,
   "metadata": {},
   "outputs": [
    {
     "data": {
      "image/png": "[encoded data removed]",
      "text/plain": [
       "<Figure size 432x288 with 1 Axes>"
      ]
     },
     "metadata": {
      "needs_background": "light"
     },
     "output_type": "display_data"
    }
   ],
   "source": [
    "from operator import mul \n",
    "from operator import add\n",
    "\n",
    "N = 3\n",
    "\n",
    "bachelor_seasons = seasons[seasons['sex'] == 'M']\n",
    "num_seasons = (bachelor_seasons.sex.count())\n",
    "num_engaged = bachelor_seasons[bachelor_seasons['engagement']].sex.count()\n",
    "num_together = bachelor_seasons[bachelor_seasons['still_together']].sex.count()\n",
    "\n",
    "bachelorette_seasons = seasons[seasons['sex'] == 'F']\n",
    "num_seasons2 = (bachelorette_seasons.sex.count())\n",
    "num_engaged2 = bachelorette_seasons[bachelorette_seasons['engagement']].sex.count()\n",
    "num_together2 = bachelorette_seasons[bachelorette_seasons['still_together']].sex.count()\n",
    "\n",
    "neither = ((num_seasons - num_engaged), (num_seasons2 - num_engaged2), (num_seasons - num_engaged) + (num_seasons2 - num_engaged2))\n",
    "engaged = ((num_engaged - num_together), (num_engaged2 - num_together2), ((num_engaged - num_together) + (num_engaged2 - num_together2)))\n",
    "together = (num_together, num_together2, num_together + num_together2)\n",
    "\n",
    "to_percent = (100/num_seasons, 100/num_seasons2, 100/(num_seasons + num_seasons2))\n",
    "\n",
    "pneither = tuple(map(mul, neither, to_percent))\n",
    "pengaged = tuple(map(mul, engaged, to_percent))\n",
    "ptogether = tuple(map(mul, together, to_percent))\n",
    "\n",
    "\n",
    "ind = np.arange(N)    # the x locations for the groups\n",
    "width = 0.4       # the width of the bars: can also be len(x) sequence\n",
    "\n",
    "p1 = plt.bar(ind, pneither, width, color = 'red')\n",
    "p2 = plt.bar(ind, pengaged, width, bottom=pneither, color = 'hotpink')\n",
    "p3 = plt.bar(ind, ptogether, width, bottom=tuple(map(add, pengaged, pneither)), color = 'pink')\n",
    "\n",
    "plt.ylabel('Percent of Couples')\n",
    "plt.xlabel('Show')\n",
    "plt.title('Couples from The Bachelor and The Bachelorette')\n",
    "plt.xticks(ind, ('The Bachelor', 'The Bachelorette', 'Both'))\n",
    "plt.yticks(np.arange(0, 101, 10))\n",
    "plt.legend((p1[0], p2[0], p3[0]), ('Neither', 'Got Engaged', 'Still Together'))\n",
    "plt.grid(b=True, axis='y', lw=.2)\n",
    "plt.show()"
   ]
  },
  {
   "cell_type": "markdown",
   "metadata": {},
   "source": [
    "Now we can clearly see that almost 30% of couples from The Bachelorette stay together while less than 5% of couples from The Bachelor stay together. Across both shows, 70% of seasons end with an engagement but only 10% of couples stay together. \n",
    "\n",
    "Many in Bachelor Nation complain at the young age of the contestants in some seasons. Let's look at the average age of contestants through the seasons and see if it's correlated to whether or not the couple is successful.\n",
    "\n",
    "Let's start with a line graph of the average age of contestants throughout the seasons of the shows. Since our previous graph showed drastically different data between the two shows, we'll continue to split them up."
   ]
  },
  {
   "cell_type": "code",
   "execution_count": 102,
   "metadata": {},
   "outputs": [
    {
     "data": {
      "text/plain": [
       "<matplotlib.legend.Legend at 0x7ffae5842250>"
      ]
     },
     "execution_count": 102,
     "metadata": {},
     "output_type": "execute_result"
    },
    {
     "data": {
      "image/png": "[encoded data removed]",
      "text/plain": [
       "<Figure size 432x288 with 1 Axes>"
      ]
     },
     "metadata": {
      "needs_background": "light"
     },
     "output_type": "display_data"
    }
   ],
   "source": [
    "grouped = contestants.groupby(by=['sex','season']).mean().reset_index()\n",
    "\n",
    "x = grouped[grouped['sex'] == 'F'].season\n",
    "y = grouped[grouped['sex'] == 'F'].age\n",
    "\n",
    "plt.plot(x,y, label='The Bachelor', color='red', marker='.')\n",
    "\n",
    "x = grouped[grouped['sex'] == 'M'].season\n",
    "y = grouped[grouped['sex'] == 'M'].age\n",
    "\n",
    "plt.plot(x,y,label='The Bachelorette',color='lightpink', marker='.')\n",
    "plt.yticks(np.arange(25, 31, .5))\n",
    "plt.ylabel('Average Age')\n",
    "plt.xlabel('Seaon')\n",
    "plt.title('Average Age of Contestants Every Season')\n",
    "plt.legend()\n"
   ]
  },
  {
   "cell_type": "markdown",
   "metadata": {},
   "source": [
    "It looks like contestants on The Bachelorette tend to be older than those on the The Bachelor and there has been a downward trend in recent seasons. I wonder if the older age of the contestants on The Bachelorette is related to the success rate of the show. Let's take a closer look at the distribution of ages on the two shows on successful seasons vs. unsuccessful seasons. "
   ]
  },
  {
   "cell_type": "code",
   "execution_count": 120,
   "metadata": {
    "scrolled": true
   },
   "outputs": [
    {
     "data": {
      "image/png": "[encoded data removed]",
      "text/plain": [
       "<Figure size 432x288 with 1 Axes>"
      ]
     },
     "metadata": {
      "needs_background": "light"
     },
     "output_type": "display_data"
    }
   ],
   "source": [
    "import seaborn as sns\n",
    "\n",
    "# seasons['sex'] = seasons['sex'] == 'M'\n",
    "# contestants['sex'] = (contestants['sex'] == 'F')\n",
    "# merged = contestants.merge(seasons, how='left', on = ['sex', 'season'])\n",
    "plot = sns.violinplot(x='sex', y=\"age\", hue=\"still_together\",data=merged, split=True, color='red')\n",
    "plot.set_title('Average Age on Successful vs Unsuccessul Season of The Bachelor(ette)')\n",
    "plot.set_ylabel('Age')\n",
    "plot.set_xlabel('Show')\n",
    "plot.set_xticklabels(['The Bachelorette', 'The Bachelor'])\n",
    "plt.yticks(np.arange(20, 45, 2))\n",
    "plt.grid(b=True, axis='y', lw=.2)\n"
   ]
  },
  {
   "cell_type": "markdown",
   "metadata": {},
   "source": []
  },
  {
   "cell_type": "code",
   "execution_count": 80,
   "metadata": {},
   "outputs": [],
   "source": [
    "name = seasons['winner'].str.split(\" \",n=2, expand = True)\n",
    "seasons['winner_first'] = name[0]\n",
    "seasons['winner_lasti'] = name[1].str[0] +'.'\n",
    "\n",
    "name = seasons['runner-up'].str.split(\" \", expand = True)\n",
    "seasons['second_first'] = name[0]\n",
    "seasons['second_lasti'] = name[1].str[0] + '.'\n",
    "\n",
    "seasons.at[20, 'second_first'] = 'Jojo'\n",
    "seasons.at[20, 'second_lasti'] = 'F.'\n",
    "seasons.at[25, 'winner_lasti'] = 'Ann'\n",
    "\n"
   ]
  },
  {
   "cell_type": "code",
   "execution_count": 317,
   "metadata": {},
   "outputs": [],
   "source": [
    "def scrape_roses(df):\n",
    "    bachelor_URL = 'https://en.wikipedia.org/wiki/The_Bachelor_(American_season_'\n",
    "    bachelorette_URL   = 'https://en.wikipedia.org/wiki/The_Bachelorette_(season_'\n",
    "    w_first = [] #if the winner recieved a first impression rose \n",
    "    ru_first = [] #if the runner-up recieved a first impression rose\n",
    "    \n",
    "    for i,row in df.iterrows():\n",
    "        if row['sex'] == 'M':\n",
    "            url = bachelor_URL\n",
    "        else:\n",
    "            url = bachelorette_URL\n",
    "        \n",
    "        url += str(row['season']) + ')'\n",
    "        \n",
    "#         print('checking {}'.format(url))\n",
    "        response = requests.get(url)\n",
    "        soup = BeautifulSoup(response.text, 'html.parser')\n",
    "    \n",
    "        roses = soup.find(id=[\"Elimination_Chart\",\"Call-Out_Order\", \"Call-out_order\"])\n",
    "       \n",
    "        if roses != None:\n",
    "            roses = roses.find_parent().find_next_sibling('table')\n",
    "            roses = roses.find_all('tr')[2:]\n",
    "            \n",
    "            name = roses[0].find_all('td')[1].text.strip().split(' ', 2)\n",
    "            \n",
    "            if name[0] == row['winner_first'] and (len(name) == 1 or name[1] == row['winner_lasti']):\n",
    "                w_first.append(True)\n",
    "            elif name[0] == row['second_first'] and (len(name) == 1 or name[1] == row['second_lasti']):\n",
    "                ru_first.append(True)\n",
    "            \n",
    "            j = 1\n",
    "            while ('skyblue' in str(roses[j].find_all('td')[1].attrs) or 'orange' in str(roses[j].find_all('td')[1].attrs) ):\n",
    "                name = roses[j].find_all('td')[1].text.strip().split(' ', 2)\n",
    "                if name[0] == row['winner_first'] and (len(name) == 1 or name[1] == row['winner_lasti']):\n",
    "                    w_first.append(True)\n",
    "                elif name[0] == row['second_first'] and (len(name) == 1 or name[1] == row['second_lasti']):\n",
    "                    ru_first.append(True)\n",
    "                j += 1\n",
    "            \n",
    "            if len(w_first) != i+1:\n",
    "                w_first.append(False)\n",
    "            if len(ru_first) != i+1:\n",
    "                ru_first.append(False)\n",
    "    df['winner_fi'] = w_first\n",
    "    df['second_fi'] = ru_first\n",
    "        \n",
    "    return df\n",
    "\n",
    "# seasons = seasons.drop(2).drop(3).drop(5).drop(6).drop(7).reset_index(drop = True)\n",
    "\n",
    "# roses = scrape_roses(seasons)\n",
    "# roses.to_csv('csv/roses.csv')\n",
    "\n",
    "roses = pd.read_csv('csv/roses.csv').drop('Unnamed: 0', axis=1)\n"
   ]
  },
  {
   "cell_type": "code",
   "execution_count": null,
   "metadata": {},
   "outputs": [],
   "source": []
  },
  {
   "cell_type": "code",
   "execution_count": null,
   "metadata": {},
   "outputs": [],
   "source": []
  },
  {
   "cell_type": "code",
   "execution_count": null,
   "metadata": {},
   "outputs": [],
   "source": []
  }
 ],
 "metadata": {
  "kernelspec": {
   "display_name": "Python 3",
   "language": "python",
   "name": "python3"
  },
  "language_info": {
   "codemirror_mode": {
    "name": "ipython",
    "version": 3
   },
   "file_extension": ".py",
   "mimetype": "text/x-python",
   "name": "python",
   "nbconvert_exporter": "python",
   "pygments_lexer": "ipython3",
   "version": "3.8.5"
  }
 },
 "nbformat": 4,
 "nbformat_minor": 4
}
